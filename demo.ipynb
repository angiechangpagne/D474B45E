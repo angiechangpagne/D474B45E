{
 "nbformat": 4,
 "nbformat_minor": 2,
 "metadata": {
  "language_info": {
   "name": "python",
   "codemirror_mode": {
    "name": "ipython",
    "version": 2
   }
  },
  "orig_nbformat": 2,
  "file_extension": ".py",
  "mimetype": "text/x-python",
  "name": "python",
  "npconvert_exporter": "python",
  "pygments_lexer": "ipython2",
  "version": 2
 },
 "cells": [
  {
   "cell_type": "code",
   "execution_count": null,
   "metadata": {},
   "outputs": [],
   "source": [
    "#dependencies\n",
    "from deepmusic.moduleloader import ModuleLoader\n",
    "#predict next key\n",
    " from deepmusic.keyboardcell import KeyboardCell\n",
    " #encapsulate song data so run get_scale, get_relative_methods\n",
    " \n"
   ]
  }
 ]
}